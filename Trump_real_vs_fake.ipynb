{
  "nbformat": 4,
  "nbformat_minor": 0,
  "metadata": {
    "colab": {
      "name": "Trump - real vs fake",
      "provenance": [],
      "include_colab_link": true
    },
    "kernelspec": {
      "name": "python3",
      "display_name": "Python 3"
    },
    "accelerator": "GPU"
  },
  "cells": [
    {
      "cell_type": "markdown",
      "metadata": {
        "id": "view-in-github",
        "colab_type": "text"
      },
      "source": [
        "<a href=\"https://colab.research.google.com/github/Jonaslbb/Video-games-Unsupervised-learning/blob/main/Trump_real_vs_fake.ipynb\" target=\"_parent\"><img src=\"https://colab.research.google.com/assets/colab-badge.svg\" alt=\"Open In Colab\"/></a>"
      ]
    },
    {
      "cell_type": "markdown",
      "metadata": {
        "id": "FeLmVE6gofBP"
      },
      "source": [
        "We begin with loading the the relevant libraries and the dataset. "
      ]
    },
    {
      "cell_type": "code",
      "metadata": {
        "id": "aRTwMc1gCVc-"
      },
      "source": [
        "import pandas as pd\n",
        "import keras\n",
        "from keras import layers\n",
        "from keras.preprocessing.text import Tokenizer\n",
        "import numpy as np\n",
        "import json"
      ],
      "execution_count": null,
      "outputs": []
    },
    {
      "cell_type": "code",
      "metadata": {
        "id": "6KAb9ld1acn5"
      },
      "source": [
        "data = pd.read_json(\"https://github.com/SDS-AAU/SDS-master/raw/e2c959494d53859c1844604bed09a28a21566d0f/M3/assignments/trump_vs_GPT2.gz\")"
      ],
      "execution_count": null,
      "outputs": []
    },
    {
      "cell_type": "markdown",
      "metadata": {
        "id": "acOiMW1wp67q"
      },
      "source": [
        "We got a dataset with 14736 samples and 2 collumns. Half of the tweets are true, and the other half is false"
      ]
    },
    {
      "cell_type": "code",
      "metadata": {
        "colab": {
          "base_uri": "https://localhost:8080/"
        },
        "id": "NW0jKUibd6yj",
        "outputId": "8ea4db9e-a4bc-4c03-a11c-342780e2ec7d"
      },
      "source": [
        "data.info()"
      ],
      "execution_count": null,
      "outputs": [
        {
          "output_type": "stream",
          "text": [
            "<class 'pandas.core.frame.DataFrame'>\n",
            "Int64Index: 14736 entries, 0 to 14735\n",
            "Data columns (total 2 columns):\n",
            " #   Column  Non-Null Count  Dtype \n",
            "---  ------  --------------  ----- \n",
            " 0   0       14736 non-null  object\n",
            " 1   1       14736 non-null  bool  \n",
            "dtypes: bool(1), object(1)\n",
            "memory usage: 244.6+ KB\n"
          ],
          "name": "stdout"
        }
      ]
    },
    {
      "cell_type": "code",
      "metadata": {
        "colab": {
          "base_uri": "https://localhost:8080/"
        },
        "id": "hh92Jw217i9d",
        "outputId": "d6ac860e-349d-41a9-f1b9-35ca56b81c61"
      },
      "source": [
        "data.iloc[:,1].value_counts()"
      ],
      "execution_count": null,
      "outputs": [
        {
          "output_type": "execute_result",
          "data": {
            "text/plain": [
              "True     7368\n",
              "False    7368\n",
              "Name: true/false, dtype: int64"
            ]
          },
          "metadata": {
            "tags": []
          },
          "execution_count": 178
        }
      ]
    },
    {
      "cell_type": "code",
      "metadata": {
        "colab": {
          "base_uri": "https://localhost:8080/",
          "height": 195
        },
        "id": "mAJbXaOud2Fq",
        "outputId": "2e809f07-3a8b-4172-f549-aa425d23bf3a"
      },
      "source": [
        "data.head()"
      ],
      "execution_count": null,
      "outputs": [
        {
          "output_type": "execute_result",
          "data": {
            "text/html": [
              "<div>\n",
              "<style scoped>\n",
              "    .dataframe tbody tr th:only-of-type {\n",
              "        vertical-align: middle;\n",
              "    }\n",
              "\n",
              "    .dataframe tbody tr th {\n",
              "        vertical-align: top;\n",
              "    }\n",
              "\n",
              "    .dataframe thead th {\n",
              "        text-align: right;\n",
              "    }\n",
              "</style>\n",
              "<table border=\"1\" class=\"dataframe\">\n",
              "  <thead>\n",
              "    <tr style=\"text-align: right;\">\n",
              "      <th></th>\n",
              "      <th>tweet</th>\n",
              "      <th>true/false</th>\n",
              "    </tr>\n",
              "  </thead>\n",
              "  <tbody>\n",
              "    <tr>\n",
              "      <th>0</th>\n",
              "      <td>I was thrilled to be back in the Great city of...</td>\n",
              "      <td>True</td>\n",
              "    </tr>\n",
              "    <tr>\n",
              "      <th>1</th>\n",
              "      <td>The Unsolicited Mail In Ballot Scam is a major...</td>\n",
              "      <td>True</td>\n",
              "    </tr>\n",
              "    <tr>\n",
              "      <th>2</th>\n",
              "      <td>As long as I am President, I will always stand...</td>\n",
              "      <td>True</td>\n",
              "    </tr>\n",
              "    <tr>\n",
              "      <th>3</th>\n",
              "      <td>Our Economy is doing great, and is ready to se...</td>\n",
              "      <td>True</td>\n",
              "    </tr>\n",
              "    <tr>\n",
              "      <th>4</th>\n",
              "      <td>If I do not sound like a typical Washington po...</td>\n",
              "      <td>True</td>\n",
              "    </tr>\n",
              "  </tbody>\n",
              "</table>\n",
              "</div>"
            ],
            "text/plain": [
              "                                               tweet  true/false\n",
              "0  I was thrilled to be back in the Great city of...        True\n",
              "1  The Unsolicited Mail In Ballot Scam is a major...        True\n",
              "2  As long as I am President, I will always stand...        True\n",
              "3  Our Economy is doing great, and is ready to se...        True\n",
              "4  If I do not sound like a typical Washington po...        True"
            ]
          },
          "metadata": {
            "tags": []
          },
          "execution_count": 176
        }
      ]
    },
    {
      "cell_type": "markdown",
      "metadata": {
        "id": "f6GTMIRM-g1S"
      },
      "source": [
        "I tried preprocessing the text the same way we did in the NLP assignment. I removed stopwords, numbers, signs and stemmed the text. \n",
        "\n",
        "All this made no difference to the score of the model, so i just decided to leave it out. I realise it looks like i pretty much skipped any kind of preproccesing, but i dont see any reason to include it just for the sake of it"
      ]
    },
    {
      "cell_type": "code",
      "metadata": {
        "id": "yf2yHMJ8bn2R"
      },
      "source": [
        "data = data.rename(columns={0: \"tweet\", 1: \"true/false\"})"
      ],
      "execution_count": null,
      "outputs": []
    },
    {
      "cell_type": "markdown",
      "metadata": {
        "id": "rkkwSV-_qH9f"
      },
      "source": [
        "We split our data into a test- and training set, so we can test our model on the test data later.\n",
        "The X values are the tweets and the y values are \"true/false\" or \"real/fake\" "
      ]
    },
    {
      "cell_type": "code",
      "metadata": {
        "id": "LMnfu76ViYTj"
      },
      "source": [
        "from sklearn.model_selection import train_test_split\n",
        "X = data.tweet\n",
        "y = data[\"true/false\"]"
      ],
      "execution_count": null,
      "outputs": []
    },
    {
      "cell_type": "code",
      "metadata": {
        "id": "a_P_YGn9imac"
      },
      "source": [
        "X_train, X_test, y_train, y_test = train_test_split(X, y, random_state=42)"
      ],
      "execution_count": null,
      "outputs": []
    },
    {
      "cell_type": "code",
      "metadata": {
        "id": "jqe31C7FVQXc"
      },
      "source": [
        "X_train = pd.DataFrame(X_train)\n",
        "X_test = pd.DataFrame(X_test)"
      ],
      "execution_count": null,
      "outputs": []
    },
    {
      "cell_type": "markdown",
      "metadata": {
        "id": "fcMxpG-kq4Wv"
      },
      "source": [
        "We make a tokenizer and fits it on all the text from the tweets. Then we change the text to sequences, which is the corresponding number in the vocabulary/dictionary."
      ]
    },
    {
      "cell_type": "code",
      "metadata": {
        "id": "xn_Z3ns5JHKp"
      },
      "source": [
        "tokenizer = Tokenizer(num_words = 20000)\n",
        "tokenizer.fit_on_texts(data.tweet)\n",
        "sequences_train = tokenizer.texts_to_sequences(X_train.tweet)\n",
        "sequences_test = tokenizer.texts_to_sequences(X_test.tweet)"
      ],
      "execution_count": null,
      "outputs": []
    },
    {
      "cell_type": "markdown",
      "metadata": {
        "id": "Jnefdl0tuBpL"
      },
      "source": [
        "The is how a tweet looks as a sequence. Every number represents a word"
      ]
    },
    {
      "cell_type": "code",
      "metadata": {
        "colab": {
          "base_uri": "https://localhost:8080/"
        },
        "id": "J96xgwBQJdss",
        "outputId": "71543839-a116-4b47-93d3-5c1a96731547"
      },
      "source": [
        "sequences_train[8]"
      ],
      "execution_count": null,
      "outputs": [
        {
          "output_type": "execute_result",
          "data": {
            "text/plain": [
              "[131, 18, 96, 45, 10, 714, 18, 103, 923, 2, 17, 5, 28, 100, 102]"
            ]
          },
          "metadata": {
            "tags": []
          },
          "execution_count": 151
        }
      ]
    },
    {
      "cell_type": "code",
      "metadata": {
        "colab": {
          "base_uri": "https://localhost:8080/"
        },
        "id": "bbObGH8SJuTU",
        "outputId": "4bd8ec8d-3d73-4a8f-b0e1-bec94f3b0ee9"
      },
      "source": [
        "print(tokenizer.index_word[131])\n",
        "print(tokenizer.index_word[18])\n",
        "print(tokenizer.index_word[96])\n",
        "print(tokenizer.index_word[45])\n",
        "print(tokenizer.index_word[10])\n",
        "print(tokenizer.index_word[714])\n",
        "print(tokenizer.index_word[18])\n",
        "print(tokenizer.index_word[103])\n",
        "print(tokenizer.index_word[923])\n",
        "print(tokenizer.index_word[2])\n",
        "print(tokenizer.index_word[17])\n",
        "print(tokenizer.index_word[5])\n",
        "print(tokenizer.index_word[28])\n",
        "print(tokenizer.index_word[100])\n",
        "print(tokenizer.index_word[102])"
      ],
      "execution_count": null,
      "outputs": [
        {
          "output_type": "stream",
          "text": [
            "again\n",
            "with\n",
            "china\n",
            "as\n",
            "our\n",
            "relationship\n",
            "with\n",
            "them\n",
            "continues\n",
            "to\n",
            "be\n",
            "a\n",
            "very\n",
            "good\n",
            "one\n"
          ],
          "name": "stdout"
        }
      ]
    },
    {
      "cell_type": "markdown",
      "metadata": {
        "id": "PjXCBCPAuQze"
      },
      "source": [
        "Now er make our RNN model. RNN is good at working with sequential data. Text is sequential, which means that words are affected by the previous words to create a sentence. \n",
        "More specifically we use a LSTM model, which is good at \"remembering\" relevant information for a long time, which can be used to find more complex dependencies in sequential data."
      ]
    },
    {
      "cell_type": "code",
      "metadata": {
        "colab": {
          "base_uri": "https://localhost:8080/"
        },
        "id": "0SsJp9SOD9NU",
        "outputId": "c05f1417-2ad4-459a-b9fb-387282614bc0"
      },
      "source": [
        "# The shape is set to None because it allows for variable-length sequences of integers.\n",
        "inputs = keras.Input(shape=(None,), dtype=\"int32\")\n",
        "# Embed each integer in a 128-dimensional vector. Each time the model sees a word it changes the vectors slightly, so over time it learns how certain words are connected.\n",
        "# 20000 is the number of words in our dictionary, which we defined earlier.\n",
        "x = layers.Embedding(20000, 128)(inputs)\n",
        "# Adding 2 bidirectional LSTMs. Bidirectional, as the name suggests, run forward and then backward. Since the information stored in the long term memory will differ\n",
        "# depending on the direction, a bidirectional LSTM will hopefully find more complex patterns.\n",
        "x = layers.Bidirectional(layers.LSTM(64, return_sequences=True))(x)\n",
        "x = layers.Bidirectional(layers.LSTM(64))(x)\n",
        "# Adding a classifier using sigmoid.\n",
        "outputs = layers.Dense(1, activation=\"sigmoid\")(x)\n",
        "model = keras.Model(inputs, outputs)\n",
        "# by using binary_crossentroby we tell the model to train to minimize the amount of wrong predictions.\n",
        "model.compile(\"adam\", \"binary_crossentropy\", metrics=[\"accuracy\"])\n",
        "model.summary()"
      ],
      "execution_count": null,
      "outputs": [
        {
          "output_type": "stream",
          "text": [
            "Model: \"functional_27\"\n",
            "_________________________________________________________________\n",
            "Layer (type)                 Output Shape              Param #   \n",
            "=================================================================\n",
            "input_14 (InputLayer)        [(None, None)]            0         \n",
            "_________________________________________________________________\n",
            "embedding_13 (Embedding)     (None, None, 128)         2560000   \n",
            "_________________________________________________________________\n",
            "bidirectional_18 (Bidirectio (None, None, 128)         98816     \n",
            "_________________________________________________________________\n",
            "bidirectional_19 (Bidirectio (None, 128)               98816     \n",
            "_________________________________________________________________\n",
            "dense_13 (Dense)             (None, 1)                 129       \n",
            "=================================================================\n",
            "Total params: 2,757,761\n",
            "Trainable params: 2,757,761\n",
            "Non-trainable params: 0\n",
            "_________________________________________________________________\n"
          ],
          "name": "stdout"
        }
      ]
    },
    {
      "cell_type": "markdown",
      "metadata": {
        "id": "RsxclbFK33gK"
      },
      "source": [
        "Before we train we need to pad the sequences. Besically just adding 0's to make sure the sequences are of the same length. Since i didn't specify a max length, 0's will be added to match the longest sequence"
      ]
    },
    {
      "cell_type": "code",
      "metadata": {
        "id": "QS8vmpHklZQ3"
      },
      "source": [
        "X_train_pad = keras.preprocessing.sequence.pad_sequences(sequences_train)\n",
        "X_test_pad = keras.preprocessing.sequence.pad_sequences(sequences_test)"
      ],
      "execution_count": null,
      "outputs": []
    },
    {
      "cell_type": "markdown",
      "metadata": {
        "id": "V_uwSzkz_VRR"
      },
      "source": [
        "Fitting the model using the training data. \n",
        "I tried many different combinations, but in my experience it overfits very quickly, so it gets the best results with relativly short \"training\"."
      ]
    },
    {
      "cell_type": "code",
      "metadata": {
        "colab": {
          "base_uri": "https://localhost:8080/"
        },
        "id": "4Zf_VUbclMsT",
        "outputId": "982aea03-96a0-4883-e30a-7655134fc0da"
      },
      "source": [
        "model.fit(X_train_pad, y_train, batch_size=200, epochs=2, validation_data=(X_test_pad, y_test))"
      ],
      "execution_count": null,
      "outputs": [
        {
          "output_type": "stream",
          "text": [
            "Epoch 1/2\n",
            "56/56 [==============================] - 7s 128ms/step - loss: 0.4825 - accuracy: 0.7666 - val_loss: 0.3492 - val_accuracy: 0.8575\n",
            "Epoch 2/2\n",
            "56/56 [==============================] - 6s 106ms/step - loss: 0.2524 - accuracy: 0.9035 - val_loss: 0.3068 - val_accuracy: 0.8800\n"
          ],
          "name": "stdout"
        },
        {
          "output_type": "execute_result",
          "data": {
            "text/plain": [
              "<tensorflow.python.keras.callbacks.History at 0x7f235a9f0f98>"
            ]
          },
          "metadata": {
            "tags": []
          },
          "execution_count": 155
        }
      ]
    },
    {
      "cell_type": "markdown",
      "metadata": {
        "id": "-_ceULsIAe_t"
      },
      "source": [
        "The model gets a score of 0.88"
      ]
    },
    {
      "cell_type": "code",
      "metadata": {
        "colab": {
          "base_uri": "https://localhost:8080/"
        },
        "id": "d7FLGQDLqj2M",
        "outputId": "04126aef-a599-4260-b8a3-aef237dd6d1c"
      },
      "source": [
        "model.evaluate(X_test_pad, y_test, batch_size=32)"
      ],
      "execution_count": null,
      "outputs": [
        {
          "output_type": "stream",
          "text": [
            "116/116 [==============================] - 3s 23ms/step - loss: 0.3068 - accuracy: 0.8800\n"
          ],
          "name": "stdout"
        },
        {
          "output_type": "execute_result",
          "data": {
            "text/plain": [
              "[0.306826114654541, 0.8800216913223267]"
            ]
          },
          "metadata": {
            "tags": []
          },
          "execution_count": 156
        }
      ]
    },
    {
      "cell_type": "markdown",
      "metadata": {
        "id": "SYazjQg7Algt"
      },
      "source": [
        "Next we get the predictions to make a brief analysis on the data."
      ]
    },
    {
      "cell_type": "code",
      "metadata": {
        "id": "Oi_PwzPfrnb1"
      },
      "source": [
        "trainPredict = model.predict(X_train_pad)\n",
        "testPredict = model.predict(X_test_pad)"
      ],
      "execution_count": null,
      "outputs": []
    },
    {
      "cell_type": "code",
      "metadata": {
        "id": "kr4Trfdm1R7J"
      },
      "source": [
        "test_predict = pd.DataFrame(testPredict)"
      ],
      "execution_count": null,
      "outputs": []
    },
    {
      "cell_type": "code",
      "metadata": {
        "colab": {
          "base_uri": "https://localhost:8080/"
        },
        "id": "6C9zX2fcHmhW",
        "outputId": "654588ee-1636-4ca2-eea4-7a1a710cd98d"
      },
      "source": [
        "trainPredict"
      ],
      "execution_count": null,
      "outputs": [
        {
          "output_type": "execute_result",
          "data": {
            "text/plain": [
              "array([[0.10489381],\n",
              "       [0.4388481 ],\n",
              "       [0.04345336],\n",
              "       ...,\n",
              "       [0.9840471 ],\n",
              "       [0.96573776],\n",
              "       [0.9877815 ]], dtype=float32)"
            ]
          },
          "metadata": {
            "tags": []
          },
          "execution_count": 159
        }
      ]
    },
    {
      "cell_type": "markdown",
      "metadata": {
        "id": "nt9UXqhMA12m"
      },
      "source": [
        "These are the predictions our model made. A score above 0.5 is True and below is False"
      ]
    },
    {
      "cell_type": "code",
      "metadata": {
        "colab": {
          "base_uri": "https://localhost:8080/",
          "height": 402
        },
        "id": "-QzFXw6B6hI5",
        "outputId": "b9c493ef-5633-471b-f43e-bdec99d889e6"
      },
      "source": [
        "test_predict = test_predict.rename(columns={0:\"value\"})\n",
        "test_predict"
      ],
      "execution_count": null,
      "outputs": [
        {
          "output_type": "execute_result",
          "data": {
            "text/html": [
              "<div>\n",
              "<style scoped>\n",
              "    .dataframe tbody tr th:only-of-type {\n",
              "        vertical-align: middle;\n",
              "    }\n",
              "\n",
              "    .dataframe tbody tr th {\n",
              "        vertical-align: top;\n",
              "    }\n",
              "\n",
              "    .dataframe thead th {\n",
              "        text-align: right;\n",
              "    }\n",
              "</style>\n",
              "<table border=\"1\" class=\"dataframe\">\n",
              "  <thead>\n",
              "    <tr style=\"text-align: right;\">\n",
              "      <th></th>\n",
              "      <th>value</th>\n",
              "    </tr>\n",
              "  </thead>\n",
              "  <tbody>\n",
              "    <tr>\n",
              "      <th>0</th>\n",
              "      <td>0.980559</td>\n",
              "    </tr>\n",
              "    <tr>\n",
              "      <th>1</th>\n",
              "      <td>0.012798</td>\n",
              "    </tr>\n",
              "    <tr>\n",
              "      <th>2</th>\n",
              "      <td>0.011221</td>\n",
              "    </tr>\n",
              "    <tr>\n",
              "      <th>3</th>\n",
              "      <td>0.012102</td>\n",
              "    </tr>\n",
              "    <tr>\n",
              "      <th>4</th>\n",
              "      <td>0.983834</td>\n",
              "    </tr>\n",
              "    <tr>\n",
              "      <th>...</th>\n",
              "      <td>...</td>\n",
              "    </tr>\n",
              "    <tr>\n",
              "      <th>3679</th>\n",
              "      <td>0.059184</td>\n",
              "    </tr>\n",
              "    <tr>\n",
              "      <th>3680</th>\n",
              "      <td>0.031930</td>\n",
              "    </tr>\n",
              "    <tr>\n",
              "      <th>3681</th>\n",
              "      <td>0.969952</td>\n",
              "    </tr>\n",
              "    <tr>\n",
              "      <th>3682</th>\n",
              "      <td>0.844956</td>\n",
              "    </tr>\n",
              "    <tr>\n",
              "      <th>3683</th>\n",
              "      <td>0.875156</td>\n",
              "    </tr>\n",
              "  </tbody>\n",
              "</table>\n",
              "<p>3684 rows × 1 columns</p>\n",
              "</div>"
            ],
            "text/plain": [
              "         value\n",
              "0     0.980559\n",
              "1     0.012798\n",
              "2     0.011221\n",
              "3     0.012102\n",
              "4     0.983834\n",
              "...        ...\n",
              "3679  0.059184\n",
              "3680  0.031930\n",
              "3681  0.969952\n",
              "3682  0.844956\n",
              "3683  0.875156\n",
              "\n",
              "[3684 rows x 1 columns]"
            ]
          },
          "metadata": {
            "tags": []
          },
          "execution_count": 160
        }
      ]
    },
    {
      "cell_type": "markdown",
      "metadata": {
        "id": "lzgR8WllBHeD"
      },
      "source": [
        "We merge the prediction value on the test dataset. We have to reset the index, otherwise it dosn't merge correctly"
      ]
    },
    {
      "cell_type": "code",
      "metadata": {
        "id": "AqXGukVA6Wtk"
      },
      "source": [
        "merged = pd.merge(pd.DataFrame(X_test).reset_index(),test_predict,left_index=True,right_index=True)"
      ],
      "execution_count": null,
      "outputs": []
    },
    {
      "cell_type": "code",
      "metadata": {
        "colab": {
          "base_uri": "https://localhost:8080/",
          "height": 402
        },
        "id": "jOG9zgysOZsg",
        "outputId": "ee5bf582-a058-4c9f-9ccc-eeeba700781a"
      },
      "source": [
        "merged"
      ],
      "execution_count": null,
      "outputs": [
        {
          "output_type": "execute_result",
          "data": {
            "text/html": [
              "<div>\n",
              "<style scoped>\n",
              "    .dataframe tbody tr th:only-of-type {\n",
              "        vertical-align: middle;\n",
              "    }\n",
              "\n",
              "    .dataframe tbody tr th {\n",
              "        vertical-align: top;\n",
              "    }\n",
              "\n",
              "    .dataframe thead th {\n",
              "        text-align: right;\n",
              "    }\n",
              "</style>\n",
              "<table border=\"1\" class=\"dataframe\">\n",
              "  <thead>\n",
              "    <tr style=\"text-align: right;\">\n",
              "      <th></th>\n",
              "      <th>index</th>\n",
              "      <th>tweet</th>\n",
              "      <th>value</th>\n",
              "    </tr>\n",
              "  </thead>\n",
              "  <tbody>\n",
              "    <tr>\n",
              "      <th>0</th>\n",
              "      <td>6862</td>\n",
              "      <td>Nolte: Poll Shows Media Failed to Gaslight Pub...</td>\n",
              "      <td>0.980559</td>\n",
              "    </tr>\n",
              "    <tr>\n",
              "      <th>1</th>\n",
              "      <td>13433</td>\n",
              "      <td>We are working with him, along with many other...</td>\n",
              "      <td>0.012798</td>\n",
              "    </tr>\n",
              "    <tr>\n",
              "      <th>2</th>\n",
              "      <td>14303</td>\n",
              "      <td>It is called the First Step Act of 2017, and i...</td>\n",
              "      <td>0.011221</td>\n",
              "    </tr>\n",
              "    <tr>\n",
              "      <th>3</th>\n",
              "      <td>13557</td>\n",
              "      <td>We must ALL MAKE AMERICA GREAT AGAIN! #DemDeba...</td>\n",
              "      <td>0.012102</td>\n",
              "    </tr>\n",
              "    <tr>\n",
              "      <th>4</th>\n",
              "      <td>6975</td>\n",
              "      <td>“Proclamation on Recognizing the Golan Heights...</td>\n",
              "      <td>0.983834</td>\n",
              "    </tr>\n",
              "    <tr>\n",
              "      <th>...</th>\n",
              "      <td>...</td>\n",
              "      <td>...</td>\n",
              "      <td>...</td>\n",
              "    </tr>\n",
              "    <tr>\n",
              "      <th>3679</th>\n",
              "      <td>2372</td>\n",
              "      <td>Thank you for your support &amp;amp, friendship- G...</td>\n",
              "      <td>0.059184</td>\n",
              "    </tr>\n",
              "    <tr>\n",
              "      <th>3680</th>\n",
              "      <td>12301</td>\n",
              "      <td>We have lost 4,000 Military members in Afghani...</td>\n",
              "      <td>0.031930</td>\n",
              "    </tr>\n",
              "    <tr>\n",
              "      <th>3681</th>\n",
              "      <td>6192</td>\n",
              "      <td>....Mainstream Media, which has lost all credi...</td>\n",
              "      <td>0.969952</td>\n",
              "    </tr>\n",
              "    <tr>\n",
              "      <th>3682</th>\n",
              "      <td>8583</td>\n",
              "      <td>The Fake News Media is in a constant state of ...</td>\n",
              "      <td>0.844956</td>\n",
              "    </tr>\n",
              "    <tr>\n",
              "      <th>3683</th>\n",
              "      <td>12758</td>\n",
              "      <td>.” @FoxNews“The Do Nothing Democrats should be...</td>\n",
              "      <td>0.875156</td>\n",
              "    </tr>\n",
              "  </tbody>\n",
              "</table>\n",
              "<p>3684 rows × 3 columns</p>\n",
              "</div>"
            ],
            "text/plain": [
              "      index                                              tweet     value\n",
              "0      6862  Nolte: Poll Shows Media Failed to Gaslight Pub...  0.980559\n",
              "1     13433  We are working with him, along with many other...  0.012798\n",
              "2     14303  It is called the First Step Act of 2017, and i...  0.011221\n",
              "3     13557  We must ALL MAKE AMERICA GREAT AGAIN! #DemDeba...  0.012102\n",
              "4      6975  “Proclamation on Recognizing the Golan Heights...  0.983834\n",
              "...     ...                                                ...       ...\n",
              "3679   2372  Thank you for your support &amp, friendship- G...  0.059184\n",
              "3680  12301  We have lost 4,000 Military members in Afghani...  0.031930\n",
              "3681   6192  ....Mainstream Media, which has lost all credi...  0.969952\n",
              "3682   8583  The Fake News Media is in a constant state of ...  0.844956\n",
              "3683  12758  .” @FoxNews“The Do Nothing Democrats should be...  0.875156\n",
              "\n",
              "[3684 rows x 3 columns]"
            ]
          },
          "metadata": {
            "tags": []
          },
          "execution_count": 162
        }
      ]
    },
    {
      "cell_type": "markdown",
      "metadata": {
        "id": "qiNmli5NBo6c"
      },
      "source": [
        "Then we merge the the true/false column back on"
      ]
    },
    {
      "cell_type": "code",
      "metadata": {
        "id": "xDAE-eWeHvhw"
      },
      "source": [
        "predictions = pd.merge(merged,y,left_on=\"index\",right_index=True)"
      ],
      "execution_count": null,
      "outputs": []
    },
    {
      "cell_type": "markdown",
      "metadata": {
        "id": "XQch9M17CC7P"
      },
      "source": [
        "To get it in the same format we make a new collum, which changes all values above 0.5 to True."
      ]
    },
    {
      "cell_type": "code",
      "metadata": {
        "id": "TAN77Ha1Uiii"
      },
      "source": [
        "predictions[\"prediction\"] = predictions.iloc[:,2]>0.5"
      ],
      "execution_count": null,
      "outputs": []
    },
    {
      "cell_type": "code",
      "metadata": {
        "colab": {
          "base_uri": "https://localhost:8080/",
          "height": 343
        },
        "id": "RgoC7JKxH9fg",
        "outputId": "6b2e58da-cb09-49df-ab19-b37f67e44ae9"
      },
      "source": [
        "predictions[210:220]"
      ],
      "execution_count": null,
      "outputs": [
        {
          "output_type": "execute_result",
          "data": {
            "text/html": [
              "<div>\n",
              "<style scoped>\n",
              "    .dataframe tbody tr th:only-of-type {\n",
              "        vertical-align: middle;\n",
              "    }\n",
              "\n",
              "    .dataframe tbody tr th {\n",
              "        vertical-align: top;\n",
              "    }\n",
              "\n",
              "    .dataframe thead th {\n",
              "        text-align: right;\n",
              "    }\n",
              "</style>\n",
              "<table border=\"1\" class=\"dataframe\">\n",
              "  <thead>\n",
              "    <tr style=\"text-align: right;\">\n",
              "      <th></th>\n",
              "      <th>index</th>\n",
              "      <th>tweet</th>\n",
              "      <th>value</th>\n",
              "      <th>true/false</th>\n",
              "      <th>prediction</th>\n",
              "    </tr>\n",
              "  </thead>\n",
              "  <tbody>\n",
              "    <tr>\n",
              "      <th>210</th>\n",
              "      <td>7250</td>\n",
              "      <td>Former FBI top lawyer James Baker just admitte...</td>\n",
              "      <td>0.942338</td>\n",
              "      <td>True</td>\n",
              "      <td>True</td>\n",
              "    </tr>\n",
              "    <tr>\n",
              "      <th>211</th>\n",
              "      <td>542</td>\n",
              "      <td>Speaker Pelosi and Chuck Schumer’s drive to tr...</td>\n",
              "      <td>0.984428</td>\n",
              "      <td>True</td>\n",
              "      <td>True</td>\n",
              "    </tr>\n",
              "    <tr>\n",
              "      <th>212</th>\n",
              "      <td>11901</td>\n",
              "      <td>J. Trump’s Anger And Anger Over Russia Investi...</td>\n",
              "      <td>0.975224</td>\n",
              "      <td>False</td>\n",
              "      <td>True</td>\n",
              "    </tr>\n",
              "    <tr>\n",
              "      <th>213</th>\n",
              "      <td>10821</td>\n",
              "      <td>Your plan to close the American... only reason...</td>\n",
              "      <td>0.972152</td>\n",
              "      <td>False</td>\n",
              "      <td>True</td>\n",
              "    </tr>\n",
              "    <tr>\n",
              "      <th>214</th>\n",
              "      <td>13940</td>\n",
              "      <td>Great book, especially since he totally exoner...</td>\n",
              "      <td>0.056008</td>\n",
              "      <td>False</td>\n",
              "      <td>False</td>\n",
              "    </tr>\n",
              "    <tr>\n",
              "      <th>215</th>\n",
              "      <td>6526</td>\n",
              "      <td>The United States stands ready to work with to...</td>\n",
              "      <td>0.968340</td>\n",
              "      <td>True</td>\n",
              "      <td>True</td>\n",
              "    </tr>\n",
              "    <tr>\n",
              "      <th>216</th>\n",
              "      <td>9202</td>\n",
              "      <td>, IN THE U.S.S. Capitol, in front of 5,000 har...</td>\n",
              "      <td>0.019221</td>\n",
              "      <td>False</td>\n",
              "      <td>False</td>\n",
              "    </tr>\n",
              "    <tr>\n",
              "      <th>217</th>\n",
              "      <td>6569</td>\n",
              "      <td>Departed the and am now on Air Force One with ...</td>\n",
              "      <td>0.964526</td>\n",
              "      <td>True</td>\n",
              "      <td>True</td>\n",
              "    </tr>\n",
              "    <tr>\n",
              "      <th>218</th>\n",
              "      <td>14112</td>\n",
              "      <td>“It is true, this is the biggest political sca...</td>\n",
              "      <td>0.013796</td>\n",
              "      <td>False</td>\n",
              "      <td>False</td>\n",
              "    </tr>\n",
              "    <tr>\n",
              "      <th>219</th>\n",
              "      <td>5727</td>\n",
              "      <td>....story about me and a perfectly fine and ro...</td>\n",
              "      <td>0.966546</td>\n",
              "      <td>True</td>\n",
              "      <td>True</td>\n",
              "    </tr>\n",
              "  </tbody>\n",
              "</table>\n",
              "</div>"
            ],
            "text/plain": [
              "     index  ... prediction\n",
              "210   7250  ...       True\n",
              "211    542  ...       True\n",
              "212  11901  ...       True\n",
              "213  10821  ...       True\n",
              "214  13940  ...      False\n",
              "215   6526  ...       True\n",
              "216   9202  ...      False\n",
              "217   6569  ...       True\n",
              "218  14112  ...      False\n",
              "219   5727  ...       True\n",
              "\n",
              "[10 rows x 5 columns]"
            ]
          },
          "metadata": {
            "tags": []
          },
          "execution_count": 165
        }
      ]
    },
    {
      "cell_type": "markdown",
      "metadata": {
        "id": "m2mEVwU6ERJh"
      },
      "source": [
        "We already knew how good the model is, but this crosstab shows that it's almost equally good at predicting real and fake tweets, but a little better at predicting the real ones."
      ]
    },
    {
      "cell_type": "code",
      "metadata": {
        "colab": {
          "base_uri": "https://localhost:8080/",
          "height": 136
        },
        "id": "aTWiy1OXWVyD",
        "outputId": "36f9b639-c14d-408a-d07f-8adb00acb209"
      },
      "source": [
        "pd.crosstab(predictions[\"true/false\"],predictions.prediction,normalize=\"columns\")"
      ],
      "execution_count": null,
      "outputs": [
        {
          "output_type": "execute_result",
          "data": {
            "text/html": [
              "<div>\n",
              "<style scoped>\n",
              "    .dataframe tbody tr th:only-of-type {\n",
              "        vertical-align: middle;\n",
              "    }\n",
              "\n",
              "    .dataframe tbody tr th {\n",
              "        vertical-align: top;\n",
              "    }\n",
              "\n",
              "    .dataframe thead th {\n",
              "        text-align: right;\n",
              "    }\n",
              "</style>\n",
              "<table border=\"1\" class=\"dataframe\">\n",
              "  <thead>\n",
              "    <tr style=\"text-align: right;\">\n",
              "      <th>prediction</th>\n",
              "      <th>False</th>\n",
              "      <th>True</th>\n",
              "    </tr>\n",
              "    <tr>\n",
              "      <th>true/false</th>\n",
              "      <th></th>\n",
              "      <th></th>\n",
              "    </tr>\n",
              "  </thead>\n",
              "  <tbody>\n",
              "    <tr>\n",
              "      <th>False</th>\n",
              "      <td>0.914627</td>\n",
              "      <td>0.14883</td>\n",
              "    </tr>\n",
              "    <tr>\n",
              "      <th>True</th>\n",
              "      <td>0.085373</td>\n",
              "      <td>0.85117</td>\n",
              "    </tr>\n",
              "  </tbody>\n",
              "</table>\n",
              "</div>"
            ],
            "text/plain": [
              "prediction     False    True \n",
              "true/false                   \n",
              "False       0.914627  0.14883\n",
              "True        0.085373  0.85117"
            ]
          },
          "metadata": {
            "tags": []
          },
          "execution_count": 166
        }
      ]
    },
    {
      "cell_type": "markdown",
      "metadata": {
        "id": "07QxRCRvGQ_7"
      },
      "source": [
        "Lastly we make two datasets. one with the right predictions and one with the wrong predictions."
      ]
    },
    {
      "cell_type": "code",
      "metadata": {
        "id": "JFjI4KUWS3L9"
      },
      "source": [
        "wrong_predict = predictions[predictions[\"true/false\"]!=predictions.prediction]\n",
        "right_predict = predictions[predictions[\"true/false\"]==predictions.prediction]"
      ],
      "execution_count": null,
      "outputs": []
    },
    {
      "cell_type": "markdown",
      "metadata": {
        "id": "vTUgo7h7Gv-x"
      },
      "source": [
        "Looking at the value column it seems that the wrong precitions are closer to 0.5, which will indicate that the model is less sure about the prediction."
      ]
    },
    {
      "cell_type": "code",
      "metadata": {
        "colab": {
          "base_uri": "https://localhost:8080/",
          "height": 195
        },
        "id": "cXehHdDOfHOp",
        "outputId": "a0599c38-de5f-4fed-b12a-745877513489"
      },
      "source": [
        "wrong_predict.head()"
      ],
      "execution_count": null,
      "outputs": [
        {
          "output_type": "execute_result",
          "data": {
            "text/html": [
              "<div>\n",
              "<style scoped>\n",
              "    .dataframe tbody tr th:only-of-type {\n",
              "        vertical-align: middle;\n",
              "    }\n",
              "\n",
              "    .dataframe tbody tr th {\n",
              "        vertical-align: top;\n",
              "    }\n",
              "\n",
              "    .dataframe thead th {\n",
              "        text-align: right;\n",
              "    }\n",
              "</style>\n",
              "<table border=\"1\" class=\"dataframe\">\n",
              "  <thead>\n",
              "    <tr style=\"text-align: right;\">\n",
              "      <th></th>\n",
              "      <th>index</th>\n",
              "      <th>tweet</th>\n",
              "      <th>value</th>\n",
              "      <th>true/false</th>\n",
              "      <th>prediction</th>\n",
              "    </tr>\n",
              "  </thead>\n",
              "  <tbody>\n",
              "    <tr>\n",
              "      <th>7</th>\n",
              "      <td>11605</td>\n",
              "      <td>We mark our service, the sacrifice they make f...</td>\n",
              "      <td>0.783054</td>\n",
              "      <td>False</td>\n",
              "      <td>True</td>\n",
              "    </tr>\n",
              "    <tr>\n",
              "      <th>12</th>\n",
              "      <td>10439</td>\n",
              "      <td>- I’m on track to start paying their Farmers ‘...</td>\n",
              "      <td>0.557719</td>\n",
              "      <td>False</td>\n",
              "      <td>True</td>\n",
              "    </tr>\n",
              "    <tr>\n",
              "      <th>39</th>\n",
              "      <td>14593</td>\n",
              "      <td>2.2% which is the lowest in 14 years.</td>\n",
              "      <td>0.696554</td>\n",
              "      <td>False</td>\n",
              "      <td>True</td>\n",
              "    </tr>\n",
              "    <tr>\n",
              "      <th>46</th>\n",
              "      <td>12463</td>\n",
              "      <td>They hate the fact that the Fed made a big mis...</td>\n",
              "      <td>0.669921</td>\n",
              "      <td>False</td>\n",
              "      <td>True</td>\n",
              "    </tr>\n",
              "    <tr>\n",
              "      <th>65</th>\n",
              "      <td>1606</td>\n",
              "      <td>“Federal Court Deals Major Blow To Sanctuary C...</td>\n",
              "      <td>0.477494</td>\n",
              "      <td>True</td>\n",
              "      <td>False</td>\n",
              "    </tr>\n",
              "  </tbody>\n",
              "</table>\n",
              "</div>"
            ],
            "text/plain": [
              "    index  ... prediction\n",
              "7   11605  ...       True\n",
              "12  10439  ...       True\n",
              "39  14593  ...       True\n",
              "46  12463  ...       True\n",
              "65   1606  ...      False\n",
              "\n",
              "[5 rows x 5 columns]"
            ]
          },
          "metadata": {
            "tags": []
          },
          "execution_count": 168
        }
      ]
    },
    {
      "cell_type": "code",
      "metadata": {
        "colab": {
          "base_uri": "https://localhost:8080/",
          "height": 195
        },
        "id": "AvnemE-dfOlp",
        "outputId": "7183a15f-82d5-43b5-f268-fe26a176a0b3"
      },
      "source": [
        "right_predict.head()"
      ],
      "execution_count": null,
      "outputs": [
        {
          "output_type": "execute_result",
          "data": {
            "text/html": [
              "<div>\n",
              "<style scoped>\n",
              "    .dataframe tbody tr th:only-of-type {\n",
              "        vertical-align: middle;\n",
              "    }\n",
              "\n",
              "    .dataframe tbody tr th {\n",
              "        vertical-align: top;\n",
              "    }\n",
              "\n",
              "    .dataframe thead th {\n",
              "        text-align: right;\n",
              "    }\n",
              "</style>\n",
              "<table border=\"1\" class=\"dataframe\">\n",
              "  <thead>\n",
              "    <tr style=\"text-align: right;\">\n",
              "      <th></th>\n",
              "      <th>index</th>\n",
              "      <th>tweet</th>\n",
              "      <th>value</th>\n",
              "      <th>true/false</th>\n",
              "      <th>prediction</th>\n",
              "    </tr>\n",
              "  </thead>\n",
              "  <tbody>\n",
              "    <tr>\n",
              "      <th>0</th>\n",
              "      <td>6862</td>\n",
              "      <td>Nolte: Poll Shows Media Failed to Gaslight Pub...</td>\n",
              "      <td>0.980559</td>\n",
              "      <td>True</td>\n",
              "      <td>True</td>\n",
              "    </tr>\n",
              "    <tr>\n",
              "      <th>1</th>\n",
              "      <td>13433</td>\n",
              "      <td>We are working with him, along with many other...</td>\n",
              "      <td>0.012798</td>\n",
              "      <td>False</td>\n",
              "      <td>False</td>\n",
              "    </tr>\n",
              "    <tr>\n",
              "      <th>2</th>\n",
              "      <td>14303</td>\n",
              "      <td>It is called the First Step Act of 2017, and i...</td>\n",
              "      <td>0.011221</td>\n",
              "      <td>False</td>\n",
              "      <td>False</td>\n",
              "    </tr>\n",
              "    <tr>\n",
              "      <th>3</th>\n",
              "      <td>13557</td>\n",
              "      <td>We must ALL MAKE AMERICA GREAT AGAIN! #DemDeba...</td>\n",
              "      <td>0.012102</td>\n",
              "      <td>False</td>\n",
              "      <td>False</td>\n",
              "    </tr>\n",
              "    <tr>\n",
              "      <th>4</th>\n",
              "      <td>6975</td>\n",
              "      <td>“Proclamation on Recognizing the Golan Heights...</td>\n",
              "      <td>0.983834</td>\n",
              "      <td>True</td>\n",
              "      <td>True</td>\n",
              "    </tr>\n",
              "  </tbody>\n",
              "</table>\n",
              "</div>"
            ],
            "text/plain": [
              "   index  ... prediction\n",
              "0   6862  ...       True\n",
              "1  13433  ...      False\n",
              "2  14303  ...      False\n",
              "3  13557  ...      False\n",
              "4   6975  ...       True\n",
              "\n",
              "[5 rows x 5 columns]"
            ]
          },
          "metadata": {
            "tags": []
          },
          "execution_count": 169
        }
      ]
    },
    {
      "cell_type": "markdown",
      "metadata": {
        "id": "4Fqt8rhlGdGx"
      },
      "source": [
        "We can see that the wrong predictions does indeed have a much lower standard diviation. "
      ]
    },
    {
      "cell_type": "code",
      "metadata": {
        "colab": {
          "base_uri": "https://localhost:8080/"
        },
        "id": "VzWux9mXelRb",
        "outputId": "7ee73e5d-a868-481c-e37d-7de34c300bfd"
      },
      "source": [
        "print(np.std(wrong_predict.value))\n",
        "print(np.std(right_predict.value))"
      ],
      "execution_count": null,
      "outputs": [
        {
          "output_type": "stream",
          "text": [
            "0.307710736989975\n",
            "0.43654176592826843\n"
          ],
          "name": "stdout"
        }
      ]
    },
    {
      "cell_type": "code",
      "metadata": {
        "id": "fL9tOi2qnQ6Q"
      },
      "source": [
        ""
      ],
      "execution_count": null,
      "outputs": []
    },
    {
      "cell_type": "markdown",
      "metadata": {
        "id": "kA6UqUB5dsGh"
      },
      "source": [
        "One of the things i tried to get a better model, was to create a more complex one. This one has more embedding vectors and more layers. As you can see in the summary is got roughly twice the amount of trainable parameters as the other model."
      ]
    },
    {
      "cell_type": "code",
      "metadata": {
        "colab": {
          "base_uri": "https://localhost:8080/"
        },
        "id": "tVq7R2SJVh63",
        "outputId": "4d394372-b75f-400d-f77d-be5ef15d211f"
      },
      "source": [
        "inputs = keras.Input(shape=(None,), dtype=\"int32\")\n",
        "x = layers.Embedding(20000, 248)(inputs)\n",
        "x = layers.LSTM(64,return_sequences=True)(x)\n",
        "x = layers.LSTM(64,return_sequences=True)(x)\n",
        "x = layers.LSTM(64,return_sequences=True)(x)\n",
        "x = layers.LSTM(64)(x)\n",
        "outputs = layers.Dense(1, activation=\"sigmoid\")(x)\n",
        "model = keras.Model(inputs, outputs)\n",
        "model.compile(\"adam\", \"binary_crossentropy\", metrics=[\"accuracy\"])\n",
        "model.summary()"
      ],
      "execution_count": null,
      "outputs": [
        {
          "output_type": "stream",
          "text": [
            "Model: \"functional_29\"\n",
            "_________________________________________________________________\n",
            "Layer (type)                 Output Shape              Param #   \n",
            "=================================================================\n",
            "input_15 (InputLayer)        [(None, None)]            0         \n",
            "_________________________________________________________________\n",
            "embedding_14 (Embedding)     (None, None, 248)         4960000   \n",
            "_________________________________________________________________\n",
            "lstm_36 (LSTM)               (None, None, 64)          80128     \n",
            "_________________________________________________________________\n",
            "lstm_37 (LSTM)               (None, None, 64)          33024     \n",
            "_________________________________________________________________\n",
            "lstm_38 (LSTM)               (None, None, 64)          33024     \n",
            "_________________________________________________________________\n",
            "lstm_39 (LSTM)               (None, 64)                33024     \n",
            "_________________________________________________________________\n",
            "dense_14 (Dense)             (None, 1)                 65        \n",
            "=================================================================\n",
            "Total params: 5,139,265\n",
            "Trainable params: 5,139,265\n",
            "Non-trainable params: 0\n",
            "_________________________________________________________________\n"
          ],
          "name": "stdout"
        }
      ]
    },
    {
      "cell_type": "markdown",
      "metadata": {
        "id": "e-uozcI2h4c4"
      },
      "source": [
        "Result is very similar to the last model."
      ]
    },
    {
      "cell_type": "code",
      "metadata": {
        "colab": {
          "base_uri": "https://localhost:8080/"
        },
        "id": "480I26CtWlSq",
        "outputId": "c3f93e32-85a7-4ea0-d89a-2fb1df9d1a2b"
      },
      "source": [
        "model.fit(X_train_pad, y_train, batch_size=200, epochs=2, validation_data=(X_test_pad, y_test))"
      ],
      "execution_count": null,
      "outputs": [
        {
          "output_type": "stream",
          "text": [
            "Epoch 1/2\n",
            "56/56 [==============================] - 9s 156ms/step - loss: 0.4908 - accuracy: 0.7733 - val_loss: 0.3426 - val_accuracy: 0.8621\n",
            "Epoch 2/2\n",
            "56/56 [==============================] - 7s 132ms/step - loss: 0.2756 - accuracy: 0.8948 - val_loss: 0.3144 - val_accuracy: 0.8730\n"
          ],
          "name": "stdout"
        },
        {
          "output_type": "execute_result",
          "data": {
            "text/plain": [
              "<tensorflow.python.keras.callbacks.History at 0x7f234ee94c88>"
            ]
          },
          "metadata": {
            "tags": []
          },
          "execution_count": 172
        }
      ]
    },
    {
      "cell_type": "markdown",
      "metadata": {
        "id": "UVbOH2H_ZzNP"
      },
      "source": [
        "I tried a few things to improve the model with no real succes. I tried adding more layers and changing the units on these layers. I tried bidirectional layers and \"one-way\" layers. I changed the embedding and padding inputs and tried different batchsizes and epochs. Some of these things had little to no effect, and others just made the model worse. I could make the model get close to 0.9 with \"lucky\" trains, but the average seems to be ~0.88"
      ]
    },
    {
      "cell_type": "code",
      "metadata": {
        "colab": {
          "base_uri": "https://localhost:8080/"
        },
        "id": "-1GLbsmDtF1F",
        "outputId": "99010a11-52f6-4450-a6ca-0d8d0b5a8e4e"
      },
      "source": [
        "!jupyter nbconvert --to html \"/content/Trump_real_vs_fake.ipynb\""
      ],
      "execution_count": null,
      "outputs": [
        {
          "output_type": "stream",
          "text": [
            "[NbConvertApp] Converting notebook /content/Trump_real_vs_fake.ipynb to html\n",
            "[NbConvertApp] Writing 331433 bytes to /content/Trump_real_vs_fake.html\n"
          ],
          "name": "stdout"
        }
      ]
    }
  ]
}